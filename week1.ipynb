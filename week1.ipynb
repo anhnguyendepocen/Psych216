{
 "metadata": {
  "name": "week1"
 },
 "nbformat": 3,
 "worksheets": [
  {
   "cells": [
    {
     "cell_type": "heading",
     "level": 1,
     "source": [
      "Psych 216A: Statistics and data analysis in <strike>MATLAB</strike> Python"
     ]
    },
    {
     "cell_type": "heading",
     "level": 2,
     "source": [
      "Homework 1 (Probability distributions and error bars)"
     ]
    },
    {
     "cell_type": "markdown",
     "source": [
      "1. This is a set of data: [1 40 5 6 80 20 4 5 6 10 5 7 3 2].  \n",
      " Plot a histogram of these data.  Compute the mean and the \n",
      " standard error on the mean using the standard parametric \n",
      " method.  Compute the median and the standard error on the \n",
      " median (68 confidence interval) using bootstrapping.  Plot \n",
      " the mean (and its standard error) and the median (and its \n",
      " standard error) on the same figure as the histogram.  Notice \n",
      " that the mean (and its standard error) give a misleading \n",
      " representation of the data."
     ]
    },
    {
     "cell_type": "code",
     "input": [
      "%pylab inline\n",
      "import utils\n",
      "import seaborn\n",
      "seaborn.setup()"
     ],
     "language": "python",
     "outputs": [
      {
       "output_type": "stream",
       "stream": "stdout",
       "text": [
        "\n",
        "Welcome to pylab, a matplotlib-based Python environment [backend: module://IPython.zmq.pylab.backend_inline].\n",
        "For more information, type 'help(pylab)'.\n"
       ]
      }
     ],
     "prompt_number": 7
    },
    {
     "cell_type": "code",
     "input": [
      "x = array([1, 40, 5, 6, 80, 20, 4, 5, 6, 10, 5, 7, 3, 2])\n",
      "mn = x.mean()\n",
      "se = x.std() / len(x)\n"
     ],
     "language": "python",
     "outputs": [],
     "prompt_number": 6
    },
    {
     "cell_type": "code",
     "input": [],
     "language": "python",
     "outputs": []
    }
   ]
  }
 ]
}