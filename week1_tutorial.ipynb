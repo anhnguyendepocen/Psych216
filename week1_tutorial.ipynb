{
 "metadata": {
  "name": "week1_tutorial"
 },
 "nbformat": 3,
 "worksheets": [
  {
   "cells": [
    {
     "cell_type": "heading",
     "level": 1,
     "source": [
      "Tutorial #1: Probability distributions and error bars"
     ]
    },
    {
     "cell_type": "code",
     "input": [
      "# Set matplotlib to plot in the notebook\n",
      "%pylab inline"
     ],
     "language": "python",
     "outputs": [
      {
       "output_type": "stream",
       "stream": "stdout",
       "text": [
        "\n",
        "Welcome to pylab, a matplotlib-based Python environment [backend: module://IPython.zmq.pylab.backend_inline].\n",
        "For more information, type 'help(pylab)'.\n"
       ]
      }
     ],
     "prompt_number": 2
    },
    {
     "cell_type": "markdown",
     "source": [
      "Note: unlike MATLAB, Python has the concepts of namespaces and explicit imports.\n",
      "Objects numpy and matplotlib namespaces are availible because we are using pylab,\n",
      "although this is fine in a notebook it's better to explicitly name them in \n",
      "(i.e. import numpy as np; imoprt matplotlib.pyplot as plt).\n",
      "\n",
      "Let's also import our plotting backend manipulator and some utils to go along with the course"
     ]
    },
    {
     "cell_type": "code",
     "input": [
      "import utils\n",
      "import seaborn\n",
      "seaborn.setup()\n",
      "colors = seaborn.get_color_list(\"deep\")"
     ],
     "language": "python",
     "outputs": [],
     "prompt_number": 12
    },
    {
     "cell_type": "heading",
     "level": 3,
     "source": [
      "(1) Exploring a simple data set; one variable, one condition"
     ]
    },
    {
     "cell_type": "markdown",
     "source": [
      "Simulating data is incredibly useful.\n",
      "\n",
      "The function random.normal generates data\n",
      "containing values that are randomly drawn from a gaussian distribution\n",
      "with a given mean and standard deviation (defaulting to 0 and 1).\n",
      "\n",
      "We will be using this function regularly throughout the course."
     ]
    },
    {
     "cell_type": "code",
     "input": [
      "# Start by generating a dataset and calculating some statistics\n",
      "d = random.normal(size=100)\n",
      "m = d.mean()\n",
      "s = d.std()"
     ],
     "language": "python",
     "outputs": [],
     "prompt_number": 4
    },
    {
     "cell_type": "code",
     "input": [
      "# Now plot a histogram of the data with 15 bins\n",
      "hist(d, 15)\n",
      "\n",
      "# Find the maximum bin height\n",
      "h = histogram(d, 15)[0]\n",
      "m_y = h.max() + 3\n",
      "\n",
      "# Add a plot of the mean and standard deviation range\n",
      "plot(m, m_y, \"ko\")\n",
      "plot([m - s, m + s], [m_y] * 2, \"k--\");"
     ],
     "language": "python",
     "outputs": [
      {
       "output_type": "display_data",
       "png": "[encoded data removed]"
      }
     ],
     "prompt_number": 40
    },
    {
     "cell_type": "code",
     "input": [
      "# Now let's find the medium and interquartile range\n",
      "med = median(d)\n",
      "iqr = utils.percentiles(d, [25, 75])\n",
      "\n",
      "# Plot the data with this summary\n",
      "hist(d, 15)\n",
      "plot(med, m_y, \"ko\")\n",
      "plot(iqr, [m_y] * 2, \"k--\");"
     ],
     "language": "python",
     "outputs": [
      {
       "output_type": "display_data",
       "png": "[encoded data removed]"
      }
     ],
     "prompt_number": 39
    },
    {
     "cell_type": "markdown",
     "source": [
      "Notice that the mean and median are very similar for these data. This is an important feature of the gaussian distribution.\n",
      "\n",
      "If data is gaussian then (1) the mean and the median will on-average approximate\n",
      "each other (more so, the more data you have) and (2) mean +/- 1 standard\n",
      "deviation spans from the 16th to the 84th percentile (i.e. 50% +/- 68%/2).\n",
      "\n",
      "Lets check this assertion by plotting these percentiles around the mean\n"
     ]
    },
    {
     "cell_type": "code",
     "input": [
      "hist(d, 15)\n",
      "plot(m, m_y, \"ko\")\n",
      "plot([m - s, m + s], [m_y] * 2, \"k--\", label=\"std dev\")\n",
      "\n",
      "plot(med, m_y - 1, \"go\")\n",
      "ci = utils.percentiles(d, [16, 84])\n",
      "plot(ci, [m_y - 1] * 2, \"g--\", label=\"68% CI\")\n",
      "legend();"
     ],
     "language": "python",
     "outputs": [
      {
       "output_type": "display_data",
       "png": "[encoded data removed]"
      }
     ],
     "prompt_number": 38
    },
    {
     "cell_type": "markdown",
     "source": [
      "Now let's look at the effect of an outlier. Notice that when we add\n",
      "outliers to the data the mean does not accurately describe the\n",
      "central tendency of the data and the standard deviation does not\n",
      "accurately reflect the spread in the data."
     ]
    },
    {
     "cell_type": "code",
     "input": [
      "d1 = concatenate([d, [40, 41, 45]])\n",
      "m1 = d1.mean()\n",
      "s1 = d1.std()\n",
      "med1 = median(d1)\n",
      "ci1 = percentile(d1, [16, 84])"
     ],
     "language": "python",
     "outputs": [],
     "prompt_number": 36
    },
    {
     "cell_type": "code",
     "input": [
      "hist(d1, 15)\n",
      "m_y = histogram(d1, 15)[0].max() + 3\n",
      "plot(m1, m_y, \"ko\")\n",
      "plot([m1 - s1, m1 + s1], [m_y] * 2, \"k--\", label=\"std dev\")\n",
      "plot(med1, m_y - 1, \"go\")\n",
      "plot(ci1, [m_y - 1] * 2, \"g--\", label=\"68% CI\")\n",
      "legend();"
     ],
     "language": "python",
     "outputs": [
      {
       "output_type": "display_data",
       "png": "[encoded data removed]"
      }
     ],
     "prompt_number": 45
    },
    {
     "cell_type": "markdown",
     "source": [
      "Notice that in this plot the mean is much higher than the median and the\n",
      "standard deviation is massive.  \n",
      "\n",
      "Neither the median nor the percentiles are drastically affected by the outliers.\n",
      "\n",
      "Notice that the mean is higher than the 84th percentile.  This means that the mean is higher than 84% of\n",
      "the values in the data.\n",
      "\n",
      "Given this distribution the mean and standard deviation are poor representations of the central tendency and spread of the data."
     ]
    },
    {
     "cell_type": "heading",
     "level": 3,
     "source": [
      "(2) Probability distributions"
     ]
    },
    {
     "cell_type": "markdown",
     "source": [
      "The equation for a gaussian is:\n",
      "\n",
      "$$p(x) = \\frac{1}{\\sigma\\sqrt{2\\pi}}\\exp[-\\frac{1}{2}(\\frac{x - \\mu}{\\sigma})^2]$$\n",
      "\n",
      "where $\\mu$ is the mean and $\\sigma$ is the standard deviation.\n",
      "\n",
      "We can plot the gaussian function with the approriate parameters on both histograms and see how well they fit the data."
     ]
    },
    {
     "cell_type": "code",
     "input": [
      "# First create a vector of x values spanning the support of the histogram\n",
      "x = linspace(d.min(), d.max(), 1000)\n",
      "\n",
      "# Let's define a function to calculate the gaussian function for a given x\n",
      "gauss = lambda x: (1 / (s * sqrt(2 * pi)) * exp(-0.5 * ((x - m) / s) ** 2))\n",
      "\n",
      "# We could iterate through the x values and calculate a y value for each using this equation\n",
      "y0 = zeros_like(x)\n",
      "for i, x_i in enumerate(x):\n",
      "    y0[i] = gauss(x_i)\n",
      "\n",
      "# You can also do it in one step with a vectorized computation.\n",
      "# In general, avoid for loops, as vectorized expressions are much faster.\n",
      "y = gauss(x)"
     ],
     "language": "python",
     "outputs": [],
     "prompt_number": 69
    },
    {
     "cell_type": "markdown",
     "source": [
      "NOTE: MATLAB and Python (specifically numpy) differ here.\n",
      "Regular arithmetic is elementwise in numpy\n",
      "i.e.: x * y in python is equivalent to x *. y in MATLAB\n",
      "Use the dot() function or np.matrix objects for matrix operations"
     ]
    },
    {
     "cell_type": "code",
     "input": [
      "# Let's double check that the two calculations are equivalent\n",
      "assert(y0 == y).all()"
     ],
     "language": "python",
     "outputs": [],
     "prompt_number": 70
    },
    {
     "cell_type": "markdown",
     "source": [
      "Now plot the gaussian curve over the histogram to s"
     ]
    }
   ]
  }
 ]
}