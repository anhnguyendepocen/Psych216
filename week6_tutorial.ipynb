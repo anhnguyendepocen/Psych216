{
 "metadata": {
  "name": "week6_tutorial"
 },
 "nbformat": 3,
 "worksheets": [
  {
   "cells": [
    {
     "cell_type": "heading",
     "level": 1,
     "source": [
      "Psych 216A Lecture 6: Model Reliability"
     ]
    },
    {
     "cell_type": "markdown",
     "source": [
      "Previous lectures have covered how to specify a model, fit a model and\n",
      "test the accuracy of a model.  This tutorial will focus on using\n",
      "bootstrapping to quantify the reliability of the parameter estimates of\n",
      "our model.  By reliability we essentially mean putting error bars on the\n",
      "parameter estimates.  In tutorial 1 we used bootstrapping to put error\n",
      "bars on estimates of the mean and median.  In tutorial 2 we used\n",
      "bootstrapping to put error bars on correlation coeficients.  We will now\n",
      "see that this same principal can be extended to just about any other type\n",
      "of model.\n",
      "\n",
      "Written by Jason D. Yeatman May 2012. jyeatman@stanford.edu\n",
      "\n",
      "Translated to Python by Michael Waskom June 2012"
     ]
    },
    {
     "cell_type": "code",
     "input": [
      "%pylab inline"
     ],
     "language": "python",
     "outputs": [
      {
       "output_type": "stream",
       "stream": "stdout",
       "text": [
        "\n",
        "Welcome to pylab, a matplotlib-based Python environment [backend: module://IPython.zmq.pylab.backend_inline].\n",
        "For more information, type 'help(pylab)'.\n"
       ]
      }
     ],
     "prompt_number": 1
    },
    {
     "cell_type": "code",
     "input": [
      "import seaborn\n",
      "seaborn.set()\n",
      "colors = seaborn.get_color_list()\n",
      "import utils"
     ],
     "language": "python",
     "outputs": [],
     "prompt_number": 2
    },
    {
     "cell_type": "heading",
     "level": 3,
     "source": [
      "Reliability -- Linear Models"
     ]
    },
    {
     "cell_type": "markdown",
     "source": [
      "In the case of a linear model with 5 regressors (one of which is a column\n",
      "of ones for our offset term), we can use bootstrapping to assess the\n",
      "reliability of each parameter:"
     ]
    },
    {
     "cell_type": "code",
     "input": [
      "n_obs = 100\n",
      "X = column_stack((randn(n_obs, 4), ones(n_obs)))"
     ],
     "language": "python",
     "outputs": [],
     "prompt_number": 3
    },
    {
     "cell_type": "markdown",
     "source": [
      "y will be created as a linear combination of the variables in the X and the weights will be random"
     ]
    },
    {
     "cell_type": "code",
     "input": [
      "w = rand(5)\n",
      "noise = randn(100) * 5\n",
      "y = dot(X, w) + noise"
     ],
     "language": "python",
     "outputs": [],
     "prompt_number": 4
    },
    {
     "cell_type": "markdown",
     "source": [
      "Now pretend this was real experimental data that we collected and we can\n",
      "fit a linear model to estimate the propper weights on X to predict y with\n",
      "the ordinary least squares formula. This is equivalent to matlab's\n",
      "regress or polyfit functions."
     ]
    },
    {
     "cell_type": "code",
     "input": [
      "ols_fit = lambda X, y: dot(dot(inv(dot(X.T, X)), X.T), y)\n",
      "w_ols = ols_fit(X, y)"
     ],
     "language": "python",
     "outputs": [],
     "prompt_number": 5
    },
    {
     "cell_type": "markdown",
     "source": [
      "The weights we estimated are similar but not exactly the same as the true\n",
      "weights. This was due to the noise in the data."
     ]
    },
    {
     "cell_type": "code",
     "input": [
      "bar(arange(5) + .1, w, .4, label=\"actual weights\")\n",
      "bar(arange(5) + .5, w_ols, .4, color=colors[1], label=\"estimated weights\");"
     ],
     "language": "python",
     "outputs": [
      {
       "output_type": "display_data",
       "png": "[encoded data removed]"
      }
     ],
     "prompt_number": 6
    },
    {
     "cell_type": "markdown",
     "source": [
      "We can quantify the reliability of our estimated weights with bootstrapping."
     ]
    },
    {
     "cell_type": "code",
     "input": [
      "iterations = 1000\n",
      "w_boot = zeros((iterations, len(w_ols)))\n",
      "for i in xrange(iterations):\n",
      "    \n",
      "    # Get an index vector to sample with replacement \n",
      "    samp = randint(0, n_obs, n_obs)\n",
      "\n",
      "    # Resample data and model\n",
      "    samp_X = X[samp, :]\n",
      "    samp_y = y[samp]\n",
      "    \n",
      "    # Fit the model on this iteration\n",
      "    w_boot[i, :] = ols_fit(samp_X, samp_y)\n",
      "\n",
      "# Get the 95% confidence interval for each weight (across each column in the design matrix)\n",
      "w_ols_ci = [utils.percentiles(col, [2.5, 97.5]) for col in w_boot.T]"
     ],
     "language": "python",
     "outputs": [],
     "prompt_number": 7
    },
    {
     "cell_type": "code",
     "input": [
      "# The bar() function expects errorbar coordinates to be relative to bar height\n",
      "# We have a convenience function in our plotting library to convert these\n",
      "ebar_coords = seaborn.ci_to_errsize(w_ols_ci, w_ols)\n",
      "\n",
      "# Plot the confidence intervals as error bars on our barplot from above\n",
      "bar(arange(5) + .1, w, .4, label=\"actual weights\")\n",
      "bar(arange(5) + .5, w_ols, .4, yerr=ebar_coords, color=colors[1], ecolor=\"gray\", label=\"estimated weights\");"
     ],
     "language": "python",
     "outputs": [
      {
       "output_type": "display_data",
       "png": "[encoded data removed]"
      }
     ],
     "prompt_number": 8
    }
   ]
  }
 ]
}